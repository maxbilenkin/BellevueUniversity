{
 "cells": [
  {
   "cell_type": "markdown",
   "id": "5141b282-7680-48c4-878a-f914e26589f3",
   "metadata": {},
   "source": [
    "##### 1) Display the text “Hello World! My name is ....\""
   ]
  },
  {
   "cell_type": "code",
   "execution_count": 1,
   "id": "7e5a8198-0775-4937-b26a-848d791c2fed",
   "metadata": {},
   "outputs": [
    {
     "name": "stdout",
     "output_type": "stream",
     "text": [
      "Hello World! My name is Maxim Bilenkin.\n"
     ]
    }
   ],
   "source": [
    "print(\"Hello World! My name is Maxim Bilenkin.\")"
   ]
  },
  {
   "cell_type": "markdown",
   "id": "67b77d1a-6265-4045-a9a9-f51d15d4b2df",
   "metadata": {},
   "source": [
    "##### 2) Add two numbers together"
   ]
  },
  {
   "cell_type": "code",
   "execution_count": 2,
   "id": "62aff8f9-0de8-4290-ad6e-d3821a488d47",
   "metadata": {},
   "outputs": [
    {
     "data": {
      "text/plain": [
       "10"
      ]
     },
     "execution_count": 2,
     "metadata": {},
     "output_type": "execute_result"
    }
   ],
   "source": [
    "5 + 5"
   ]
  },
  {
   "cell_type": "markdown",
   "id": "a861a55a-74d1-42b2-8c93-dd037a3be11e",
   "metadata": {},
   "source": [
    "##### 3) Subtract a number from another number"
   ]
  },
  {
   "cell_type": "code",
   "execution_count": 3,
   "id": "326a6211-f2b1-4ce9-bd61-57786f1fc96c",
   "metadata": {},
   "outputs": [
    {
     "data": {
      "text/plain": [
       "7"
      ]
     },
     "execution_count": 3,
     "metadata": {},
     "output_type": "execute_result"
    }
   ],
   "source": [
    "10 - 3"
   ]
  },
  {
   "cell_type": "markdown",
   "id": "6b7bdcd6-4675-4506-9787-6b1dcd0d4e7c",
   "metadata": {},
   "source": [
    "##### 4) Multiply two numbers"
   ]
  },
  {
   "cell_type": "code",
   "execution_count": 4,
   "id": "73efafcb-cc25-4efc-a8ed-4ad5ad6480eb",
   "metadata": {},
   "outputs": [
    {
     "data": {
      "text/plain": [
       "49"
      ]
     },
     "execution_count": 4,
     "metadata": {},
     "output_type": "execute_result"
    }
   ],
   "source": [
    "7 * 7"
   ]
  },
  {
   "cell_type": "markdown",
   "id": "b9f00c1b-b21f-4096-a473-7235f127ba70",
   "metadata": {},
   "source": [
    "##### 5) Divide between two numbers"
   ]
  },
  {
   "cell_type": "code",
   "execution_count": 5,
   "id": "7a4dc8a3-7504-4984-a98e-bfa7fb4ba425",
   "metadata": {},
   "outputs": [
    {
     "data": {
      "text/plain": [
       "5.0"
      ]
     },
     "execution_count": 5,
     "metadata": {},
     "output_type": "execute_result"
    }
   ],
   "source": [
    "25 / 5"
   ]
  },
  {
   "cell_type": "markdown",
   "id": "b42452f2-c182-477d-a48e-eb4fc89ffb50",
   "metadata": {},
   "source": [
    "##### 6) Concatenate two strings together (any words)"
   ]
  },
  {
   "cell_type": "code",
   "execution_count": 6,
   "id": "728a9e6f-409f-45e0-8189-fe7cf4bddedf",
   "metadata": {},
   "outputs": [
    {
     "name": "stdout",
     "output_type": "stream",
     "text": [
      "Hello World!\n"
     ]
    }
   ],
   "source": [
    "print(\"Hello\" +\" \"+ \"World!\")"
   ]
  },
  {
   "cell_type": "markdown",
   "id": "fc89bfbd-b993-46ce-ba69-6abc48f7ed26",
   "metadata": {},
   "source": [
    "##### 7) Create a list of 4 items (can be strings, numbers, both)"
   ]
  },
  {
   "cell_type": "code",
   "execution_count": 7,
   "id": "e3520891-316b-4e41-8fe1-9e1c020639de",
   "metadata": {},
   "outputs": [
    {
     "name": "stdout",
     "output_type": "stream",
     "text": [
      "[7, 'Hello World!', 'Python', 3]\n"
     ]
    }
   ],
   "source": [
    "list_of_4 = [7,\"Hello World!\", \"Python\", 3]\n",
    "print(list_of_4)"
   ]
  },
  {
   "cell_type": "markdown",
   "id": "06e16b6d-2bdd-438b-94aa-afdd6c006747",
   "metadata": {},
   "source": [
    "##### 8) Append an item to your list (again, can be a string, number)"
   ]
  },
  {
   "cell_type": "code",
   "execution_count": 8,
   "id": "2550632b-87d8-4574-8f03-24856bf2db30",
   "metadata": {},
   "outputs": [
    {
     "name": "stdout",
     "output_type": "stream",
     "text": [
      "[7, 'Hello World!', 'Python', 3, 'Think Python']\n"
     ]
    }
   ],
   "source": [
    "list_of_4 = [7, \"Hello World!\", \"Python\", 3]\n",
    "list_of_4.append(\"Think Python\")\n",
    "print(list_of_4)\n"
   ]
  },
  {
   "cell_type": "markdown",
   "id": "8e4cb900-1a57-4c4a-952a-d685c3dcf91e",
   "metadata": {},
   "source": [
    "##### 9) Create a tuple with 4 items (can be strings, numbers, both)"
   ]
  },
  {
   "cell_type": "code",
   "execution_count": 9,
   "id": "abd8e82f-1294-4966-bcec-fd71760c63bc",
   "metadata": {},
   "outputs": [
    {
     "name": "stdout",
     "output_type": "stream",
     "text": [
      "('apple', 'orange', 2, 'pear')\n"
     ]
    }
   ],
   "source": [
    "tuple_of_4 = (\"apple\", \"orange\", 2, \"pear\")\n",
    "print(tuple_of_4)"
   ]
  }
 ],
 "metadata": {
  "kernelspec": {
   "display_name": "Python 3 (ipykernel)",
   "language": "python",
   "name": "python3"
  },
  "language_info": {
   "codemirror_mode": {
    "name": "ipython",
    "version": 3
   },
   "file_extension": ".py",
   "mimetype": "text/x-python",
   "name": "python",
   "nbconvert_exporter": "python",
   "pygments_lexer": "ipython3",
   "version": "3.12.7"
  }
 },
 "nbformat": 4,
 "nbformat_minor": 5
}
