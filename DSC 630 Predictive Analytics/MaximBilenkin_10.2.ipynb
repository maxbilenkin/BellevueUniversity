{
 "cells": [
  {
   "cell_type": "markdown",
   "id": "4b5965ce-566a-4373-93f4-8538b70fe050",
   "metadata": {},
   "source": [
    "# DSC 630 Course Project – Milestone 2"
   ]
  },
  {
   "cell_type": "markdown",
   "id": "5712441f-8b5a-4584-805b-83cd97db7523",
   "metadata": {},
   "source": [
    "### Project Topic\n",
    "*Identifying Key Characteristics of Potential Customers Likely to Sign Up for a New Credit Card*\n",
    "\t\n",
    "### Challenge Statement\n",
    "How can banks effectively acquire new credit card customers in order to increase their revenues? This is a major challenge in today’s highly competitive financial landscape. Many consumers already possess one or more credit cards and tend to retain them long-term, making customer acquisition increasingly difficult. Once a person adopts a few cards, they are often reluctant to switch providers or add new ones.\n",
    "However, certain segments of a population include individuals without any credit cards or those who are frequent card switchers - they may be more open to acquiring a new one. Identifying these segments is key. What characteristics define individuals who are more likely to apply for a credit card? What demographics or behavioral patterns signal a higher likelihood of adoption?\n",
    "Banks that can have answers to these questions will have a competitive edge. Rather than relying on broad, expensive marketing efforts, banks could focus their resources on high-potential customer segments, increasing efficiency and effectiveness in acquisition strategies.\n",
    "\n",
    "### Business Justification\n",
    "By gaining better understanding from marketing campaigns, in which specific individuals are more likely to be interested in new credit card offers and are more prone to sign up for one, banks can significantly improve marketing outcomes. By targeting the right audience, banks can reduce marketing costs, increase conversion rates, and improve return on investment (ROI). Predictive modeling based on customer characteristics allows institutions to transition from mass marketing to personalized outreach, resulting in better customer acquisition and greater overall profitability.\n",
    "\n",
    "### Dataset Description\n",
    "The project will use the Bank Marketing Dataset from the UCI Machine Learning Repository. This dataset contains information about marketing campaigns conducted by a Portuguese banking institution, including whether or not a client subscribed to a term deposit product.\n",
    "Although the original target variable is related to term deposit subscriptions, the marketing response data can be reasonably adapted to simulate customer decisions around adopting financial products - making it relevant for modeling credit card acquisition.\n",
    "\n",
    "### Key features in the dataset include:\n",
    "-\tDemographics: age, job, marital status, education\n",
    "-\tFinancial attributes: default history, housing loan, personal loan\n",
    "-\tContact and campaign details: contact method, number of contacts, previous campaign outcome\n",
    "-\tTarget variable: whether the client subscribed to the product (binary: yes/no)\n",
    "This dataset is suitable for classification modeling and aligns with the project's goal of identifying individuals likely to respond positively to financial product offers such as credit cards.\n",
    "\n",
    "### Project Plan\n",
    "Tools: Python (pandas, scikit-learn, matplotlib), Jupyter Notebook\n",
    "Methodology:\n",
    "\n",
    "1.\tData cleaning and preprocessing\n",
    "2.\tExploratory Data Analysis (EDA)\n",
    "3.\tFeature selection and engineering\n",
    "4.\tTrain/test data split\n",
    "5.\tApplication of supervised classification models such as Logistic Regression, Decision Trees, and Random Forests.\n",
    "6.\tModel evaluation using accuracy, precision, recall, ROC-AUC\n",
    "7.\tInterpretation of feature importance and formulation of business recommendations\n",
    "\n",
    "### Risks and Ethical Concerns\n",
    "While the dataset used in this project originates from the UCI Machine Learning Repository and contains no personally identifiable information (PII), ethical considerations still apply. The data includes sensitive attributes such as age, employment status, marital status, and financial history (e.g., loan status), which could unintentionally introduce bias into the model. For example, if the model might favor certain age groups or employment types and if not carefully balanced, it can lead to discriminatory outcomes in marketing practices.\n",
    "\n",
    "In addressing these concerns, I will ensure that model development includes fairness checks and will avoid using attributes in a way that could lead to biased targeting. Additionally, since the dataset is fully anonymized and publicly available, there are no privacy risks or ethical violations in terms of data sourcing.\n",
    "\n",
    "### Expected Outcome\n",
    "The final model will predict the likelihood of a customer signing up for a new credit card based on their demographic and behavioral characteristics. All the insights derived from this model will help banks refine their marketing strategies by identifying high-probability customers, reducing acquisition costs, and increasing revenue through more targeted campaigns.\n",
    "\n",
    "### Contingency Plan\n",
    "If the original dataset that I chose does not yield meaningful results, I will implement several contingency strategies to improve the project. First, I will explore feature engineering to create new combined variables from existing ones that may enhance model performance. If it’s necessary, I will supplement the dataset with additional sources that will provide complementary customer or financial behavior data. Another option is to adjust the target variable or simplify the modeling approach by focusing only on key demographic attributes. If the target labels prove unreliable, I may also consider using unsupervised learning techniques such as clustering to identify distinct customer segments."
   ]
  },
  {
   "cell_type": "markdown",
   "id": "be4a058a-47c1-41eb-a7d3-2be9cabbf761",
   "metadata": {},
   "source": [
    "# DSC 630 Course Project – Milestone 3: Preliminary Data Exploration"
   ]
  },
  {
   "cell_type": "code",
   "execution_count": null,
   "id": "cd668711-1225-4652-b894-01b01accab43",
   "metadata": {},
   "outputs": [],
   "source": [
    "import pandas as pd\n",
    "\n",
    "# Loading the dataset using semicolon as the delimiter\n",
    "df = pd.read_csv('bank-full.csv', sep=';')\n",
    "\n",
    "# Displaying the first few rows\n",
    "df.head()"
   ]
  },
  {
   "cell_type": "markdown",
   "id": "7190870c-ba0a-4539-b6c2-0219c5caefec",
   "metadata": {},
   "source": [
    "### Initial Observations\n",
    "\n",
    "This dataset was acquired from a Portuguese bank’s marketing campaign promoting term deposit products. It includes demographic and financial information for over 45,000 clients, as well as details on the campaign and its outcome.\n",
    "\n",
    "- The dataset contains **45,211 rows** and **17 columns**.\n",
    "- **7 columns** are numerical (e.g., `age`, `balance`, `duration`) and **10 columns** are categorical (e.g., `job`, `education`, `contact`).\n",
    "- The **target variable** is `y`, which indicates whether a client subscribed to the product (`yes`) or not (`no`).\n",
    "- Several fields contain the value `\"unknown\"`, which may require cleaning or imputation during data preprocessing.\n",
    "- The goal of this study is to identify patterns in the data that can help for banks predict whether a client will likely to subscribe to a **credit card product**, with the assumtion of using similar campaign structure."
   ]
  },
  {
   "cell_type": "markdown",
   "id": "9c55da6d-c628-42f9-8cb3-64ced55876f4",
   "metadata": {},
   "source": [
    "### Exploratory Data Analysis (EDA) \n",
    "\n",
    "In this section, I will begin exploring the dataset to gain insight into the data, understand the distribution of all the features, examine relationships between variables, and identify if any potential data quality issues such as missing values or skewed distributions exist. This step will help guide feature selection and inform modeling decisions later in the project."
   ]
  },
  {
   "cell_type": "markdown",
   "id": "4ac56865-b4a8-4fda-88b3-a7b268da6a86",
   "metadata": {},
   "source": [
    "### Step 1: Show basic information about the dataset"
   ]
  },
  {
   "cell_type": "code",
   "execution_count": null,
   "id": "bcf2e8a2-b19f-431d-a4f1-a3881d92acb2",
   "metadata": {},
   "outputs": [],
   "source": [
    "# Displaying shape and structure\n",
    "print(\"Dataset shape:\", df.shape)\n",
    "df.info()"
   ]
  },
  {
   "cell_type": "markdown",
   "id": "123bef83-a145-440e-9e16-6807666cd681",
   "metadata": {},
   "source": [
    "### Step 2: Preview the First Few Rows of the Dataset\n",
    "\n",
    "Below is a preview of the dataset to get an initial look at how the features are structured and how the data appears. This helps confirm that the data was loaded correctly."
   ]
  },
  {
   "cell_type": "code",
   "execution_count": null,
   "id": "6ec0811f-58ce-4b29-b373-21164a06c73f",
   "metadata": {},
   "outputs": [],
   "source": [
    "# Showing the first few rows\n",
    "df.head()"
   ]
  },
  {
   "cell_type": "markdown",
   "id": "ce2fcb78-e65d-4374-8783-d5db23289f07",
   "metadata": {},
   "source": [
    "### Step 3: Check for missing or “unknown” values"
   ]
  },
  {
   "cell_type": "code",
   "execution_count": null,
   "id": "a516a932-22f8-449d-88b4-c0a970505ab9",
   "metadata": {},
   "outputs": [],
   "source": [
    "# Counting missing values (nulls)\n",
    "print(\"Missing values per column:\")\n",
    "print(df.isnull().sum())\n",
    "\n",
    "# Counting \"unknown\" values\n",
    "print(\"\\n'Unknown' values per column:\")\n",
    "print((df == \"unknown\").sum())"
   ]
  },
  {
   "cell_type": "markdown",
   "id": "2a230d28-8002-4e3e-a7fd-49eab38d2ae6",
   "metadata": {},
   "source": [
    "### Missing and Unknown Values\n",
    "\n",
    "There are no missing (NaN) values in the dataset. However, several categorical features use \"unknown\" as a placeholder for missing data:\n",
    "\n",
    "| Column      | \"unknown\" Count |\n",
    "| ----------- | --------------- |\n",
    "| `job`       | 288             |\n",
    "| `education` | 1,857           |\n",
    "| `contact`   | 13,020          |\n",
    "| `poutcome`  | 36,959          |\n",
    "\n",
    "**Note**: These issues will need to be addressed during data preprocessing in Milestone 4 - either by imputing missing values, dropping rows, or treating `\"unknown\"` as a separate category depending on the context."
   ]
  },
  {
   "cell_type": "markdown",
   "id": "3733e369-6184-4aa0-97f8-cc43e7d3b626",
   "metadata": {},
   "source": [
    "### Step 4: Summary statistics for numerical columns"
   ]
  },
  {
   "cell_type": "code",
   "execution_count": null,
   "id": "56677e97-31e3-4853-9134-bf34b905655c",
   "metadata": {},
   "outputs": [],
   "source": [
    "# Summary statistics for numeric columns\n",
    "df.describe()"
   ]
  },
  {
   "cell_type": "markdown",
   "id": "cfcb5010-c579-428f-8cd3-dc3fd03760ee",
   "metadata": {},
   "source": [
    "| Feature    | Min   | Max    | Mean   | Std. Dev | Notes                                   |\n",
    "| ---------- | ----- | ------ | ------ | -------- | --------------------------------------- |\n",
    "| `age`      | 18    | 95     | 40.94  | 10.62    | Normal distribution                     |\n",
    "| `balance`  | -8019 | 102127 | 1362   | 3045     | Large range; contains negative balances |\n",
    "| `duration` | 0     | 4918   | 258.16 | 257.53   | Call duration in seconds, very skewed   |\n",
    "| `campaign` | 1     | 63     | 2.76   | 3.10     | # contacts during campaign              |\n",
    "| `pdays`    | -1    | 871    | 40.20  | 100.13   | -1 indicates no prior contact           |\n",
    "| `previous` | 0     | 275    | 0.58   | 2.30     | # contacts before campaign              |\n"
   ]
  },
  {
   "cell_type": "markdown",
   "id": "8b4db447-1e1b-4a73-9e50-146f7390abf3",
   "metadata": {},
   "source": [
    "#### Observations:\n",
    "\n",
    "- balance contains negative values, which may reflect overdrafts.\n",
    "\n",
    "- duration is likely right-skewed and highly influential on the target variable.\n",
    "\n",
    "- pdays uses -1 as a sentinel value (requires recoding later).\n",
    "\n"
   ]
  },
  {
   "cell_type": "markdown",
   "id": "a01a250e-4f5d-4654-88d1-236c003d06d2",
   "metadata": {},
   "source": [
    "### Step 5: Target Variable Distribution\n",
    "In this step, I will examine the class distribution of the target variable y. This will help:\n",
    "\n",
    "- Determine how balanced the dataset is\n",
    "\n",
    "- Decide whether techniques like resampling or special evaluation metrics (such as precision, recall, or F1 score) may be necessary"
   ]
  },
  {
   "cell_type": "code",
   "execution_count": null,
   "id": "9342c282-4361-49c9-b142-5646a18f9f10",
   "metadata": {},
   "outputs": [],
   "source": [
    "import seaborn as sns\n",
    "import matplotlib.pyplot as plt\n",
    "\n",
    "# Plotting the distribution of the target variable\n",
    "sns.countplot(data=df, x='y', hue='y', palette='Set2', legend=False)\n",
    "plt.title('Distribution of Target Variable (y)')\n",
    "plt.xlabel('Subscribed to Credit Product')\n",
    "plt.ylabel('Count')\n",
    "plt.show()\n",
    "\n",
    "# Printing percentage distribution\n",
    "target_distribution = df['y'].value_counts(normalize=True) * 100\n",
    "print(\"Target variable distribution (%):\")\n",
    "print(target_distribution)"
   ]
  },
  {
   "cell_type": "markdown",
   "id": "fb248247-ed52-4239-8c5a-eb4cc3d5b7f9",
   "metadata": {},
   "source": [
    "### Target Variable Distribution Results\n",
    "\n",
    "The target variable `y` is highly imbalanced:\n",
    "- 88.3% of the clients did **not** subscribe to the product (`no`)\n",
    "- Only 11.7% subscribed (`yes`)\n",
    "\n",
    "This imbalance may affect model performance, especially if accuracy is used as the main metric. Therefore, additional steps such as **resampling** or **choosing alternative evaluation metrics** (e.g., precision, recall, F1-score) may be needed to build a meaningful predictive model.\n"
   ]
  },
  {
   "cell_type": "markdown",
   "id": "0f36cf70-3a88-4e98-b31e-fac62a08cee3",
   "metadata": {},
   "source": [
    "### Step 6: Explore Categorical Variables"
   ]
  },
  {
   "cell_type": "code",
   "execution_count": null,
   "id": "87771c75-9893-4471-b3f6-3692179b668f",
   "metadata": {},
   "outputs": [],
   "source": [
    "categorical_cols = df.select_dtypes(include='object').columns.tolist()\n",
    "categorical_cols.remove('y')  # Excluding target variable for now\n",
    "categorical_cols"
   ]
  },
  {
   "cell_type": "markdown",
   "id": "f02e8015-5493-4f6b-8bb9-e64406294d6d",
   "metadata": {},
   "source": [
    "### Plotting Value Counts by Category"
   ]
  },
  {
   "cell_type": "code",
   "execution_count": null,
   "id": "5d363e0e-8fd6-4e42-8e89-923dbbbb109d",
   "metadata": {},
   "outputs": [],
   "source": [
    "for col in categorical_cols:\n",
    "    plt.figure(figsize=(8, 4))\n",
    "    sns.countplot(data=df, x=col, hue='y', palette='Set2')\n",
    "    plt.title(f'Distribution of {col} by Target')\n",
    "    plt.xticks(rotation=45, ha='right')\n",
    "    plt.tight_layout()\n",
    "    plt.show()"
   ]
  },
  {
   "cell_type": "markdown",
   "id": "72e740fa-cb53-4a75-8329-569e83e8fded",
   "metadata": {},
   "source": [
    "### Summary of Observations\n",
    "\n",
    "**Job vs. Subscription:**  \n",
    "Although the total number of \"no\" responses dominates across all job categories, some groups show notable positive response rates. For example, students had roughly 1,000 total responses, with nearly half responding \"yes\" - suggesting a strong interest in credit card offers, likely due to financial insecurity or the need for emergency funding. Other categories with meaningful \"yes\" responses include:\n",
    "\n",
    "- **Retired:** Approximately 2,000 “no” responses and around one-third “yes,” indicating moderate interest.\n",
    "- **Self-employed:** Roughly 1,800 “no” and about 20% “yes.”\n",
    "- **Unemployed:** Around 1,600 “no” and an estimated 15% “yes.”\n",
    "- **Housemaid:** Around 1,800 total with approximately 10% “yes.”\n",
    "\n",
    "In contrast, job categories typically associated with higher or stable income (e.g., management, technician, blue-collar, admin, and services) had significantly lower “yes” rates, suggesting less need or interest in new credit cards.\n",
    "\n",
    "**Marital Status:**  \n",
    "Among married clients, about 25,000 declined the offer, and 2,500 accepted - roughly a 10% positive response rate.  \n",
    "Singles, on the other hand, showed a much higher success rate: around 11,000 total responses with approximately 2,000 “yes” (18.18%).  \n",
    "Divorced clients had around 6,000 “no” and 1,000 “yes” - a 16.66% success rate.  \n",
    "These results suggest that unmarried individuals may be more receptive to financial product offers.\n",
    "\n",
    "**Education:**  \n",
    "- **Secondary education:** About 20,000 “no” and 2,500 “yes” - a 12.5% success rate.  \n",
    "- **Tertiary education:** Around 15,000 “no” and 2,400 “yes” - about 16%.  \n",
    "- **Unknown:** 2,000 “no” and 500 “yes” - a 20% success rate, though this group is hard to interpret.  \n",
    "- **Primary education:** The numbers are relatively small and less impactful for analysis.\n",
    "\n",
    "**Default History:**  \n",
    "Clients with **no defaults** had around 40,000 “no” and 5,000 “yes” - a meaningful 12.5% success rate.  \n",
    "Clients **with defaults** had around 1,000 “no” responses and negligible or no “yes” responses. This may indicate lower eligibility or interest.\n",
    "\n",
    "**Housing Loan Status:**  \n",
    "Clients **with housing loans**: About 25,000 “no” and 2,500 “yes” - ~10% success rate.  \n",
    "Clients **without housing loans**: Around 16,000 “no” and 3,000 “yes” - ~18.75%.  \n",
    "This outcome indicates that clients without housing loans are more likely to respond to credit card offers.\n",
    "\n",
    "**Personal Loan Status:**  \n",
    "- **No personal loan:** 35,000 “no” and 5,000 “yes” - ~14.29%.  \n",
    "- **With personal loan:** 7,000 “no” and 1,000 “yes” - also ~14.29%.  \n",
    "Both groups have similar response rates, indicating that personal loan status may not significantly affect interest in new credit cards.\n",
    "\n",
    "**Contact Method:**  \n",
    "- **Unknown contact method:** 14,000 “no” and 1,000 “yes” - ~7.14% success rate.  \n",
    "- **Cellular:** 24,000 “no” and 4,000 “yes” - ~16.67%.  \n",
    "- **Telephone (landline):** 3,000 “no” and 1,000 “yes” - ~33.33%.  \n",
    "Clients contacted by telephone landline appear more likely to subscribe, making this the most effective channel.\n",
    "\n",
    "**Month of Contact:**  \n",
    "Certain months had significantly higher success rates:  \n",
    "- **October:** ~400 “no” and 300 “yes” - ~75%.  \n",
    "- **December:** ~100 “no” and 100 “yes” - ~100%.  \n",
    "- **March:** ~200 “no” and 200 “yes” - ~100%.  \n",
    "- **September:** ~300 “no” and 200 “yes” - ~66.67%.  \n",
    "These months may reflect better timing for marketing campaigns and should be prioritized.\n",
    "\n",
    "**Previous Campaign Outcome (poutcome):**  \n",
    "- **Unknown:** ~34,000 “no” and 4,000 “yes.”  \n",
    "- **Failure:** ~4,000 “no” and 1,000 “yes.”  \n",
    "- **Other:** ~2,000 “no” and 500 “yes.”  \n",
    "- **Success:** ~800 “no” and 1,000 “yes.”  \n",
    "Clients with previous successful outcomes are significantly more likely to respond positively to the current campaign."
   ]
  },
  {
   "cell_type": "markdown",
   "id": "813a2770-8454-4619-83f9-3bf3aee2770d",
   "metadata": {},
   "source": [
    "### Planned Evaluation Metrics\n",
    "\n",
    "The dataset shows a significant class imbalance in the target variable, with approximately 88% \"no\" vs. 12% \"yes\". This means that accuracy alone won’t be a sufficient evaluation metric for later modeling.\n",
    "\n",
    "To better assess model performance, I plan to use the following evaluation techniques in future milestones:\n",
    "\n",
    "- **Precision & Recall**: To evaluate the model’s ability to correctly identify true positives without overpredicting.\n",
    "- **F1 Score**: A balanced metric that combines precision and recall - especially useful in imbalanced datasets.\n",
    "- **Confusion Matrix**: To visualize how predictions are distributed across actual classes.\n",
    "- **Gain and Lift Charts**: Particularly helpful in marketing applications to understand how well the model identifies high-probability responders.\n",
    "\n",
    "These metrics will be implemented in Milestone 4 or Milestone 5 during model training and evaluation."
   ]
  },
  {
   "cell_type": "markdown",
   "id": "92099b22-f2c5-4029-a1ad-6ee3096a970d",
   "metadata": {},
   "source": [
    "### Reflections & Adjustments\n",
    "After exploring the dataset, I believe the data is sufficient to support the core question of this project - identifying customer characteristics that predict a likelihood of signing up for a financial product. While the dataset originally focuses on term deposit subscriptions, the behavioral patterns and marketing responses it contains are still highly relevant for modeling interest in credit card offers.\n",
    "\n",
    "###### Will I be able to answer the questions I want to answer with the data I have?\n",
    "Yes, the dataset includes a wide range of demographic and behavioral attributes that can be used to build meaningful classification models. The target variable (y) will be interpreted as a proxy for responding positively to a credit offer.\n",
    "\n",
    "###### Do I need to adjust the data and/or driving questions?\n",
    "So far, the main driving question remains valid. However, I’ll continue to explore whether certain features (like pdays, poutcome, or duration) are relevant or need transformation. If necessary, I may refine the feature set during modeling.\n",
    "\n",
    "###### Do I need to adjust my model/evaluation choices?\n",
    "Due to the class imbalance in the target variable, I plan to incorporate additional evaluation metrics beyond accuracy (such as F1 score, precision, recall, and Gain/Lift charts). This ensures the model is not biased toward the majority class.\n",
    "\n",
    "###### Are my original expectations still reasonable?\n",
    "Yes. The exploratory analysis has revealed promising trends, especially within certain job roles, education levels, and contact methods. These insights suggest that predictive modeling should be able to uncover patterns that banks can use to target potential credit card customers more effectively."
   ]
  },
  {
   "cell_type": "markdown",
   "id": "50b16940-bfeb-4ca0-8641-9654b64a21e6",
   "metadata": {},
   "source": [
    "# DSC 630 Course Project – Milestone 4: Finalizing Results"
   ]
  },
  {
   "cell_type": "markdown",
   "id": "70e5b803-c6b2-440d-b074-05cfe93b773f",
   "metadata": {},
   "source": [
    "## Introduction\n",
    "\n",
    "This Milestone represents the continuation of Milestone 3 and is the near-final stage of analysis for the course project that is titled **\"Identifying Key Characteristics of Potential Customers Likely to Sign Up for a New Credit Card\"**. For this initiative, the Bank Marketing dataset from UCI was used and the goal of this project is to identify which characteristics are most predictive of a customer subscribing to a term deposit product, which is also serves as a proxy for signing up for a new credit card.\n",
    "\n",
    "In this milestone, we will:\n",
    "\n",
    "- Describe the data preparation process in detail.\n",
    "- Build and evaluate classification models.\n",
    "- Interpret model results and feature importance.\n",
    "- Begin forming conclusions and actionable recommendations.\n"
   ]
  },
  {
   "cell_type": "markdown",
   "id": "20269a64-d51a-4d65-99a6-c6400380336e",
   "metadata": {},
   "source": [
    "## Data Preparation\n",
    "\n",
    "For this project the dataset used is the Bank Marketing dataset from the UCI Machine Learning Repository. This data contains information on 41,188 contacts related to the direct marketing campaigns that were conducted by a Portuguese banking institution. Each of the record includes demographic customer information like age, job, marital status, financial variables such as balance, housing loan, and campaign-related attributes that represent number of contacts, and last contact duration.\n",
    "\n",
    "### Steps Taken:\n",
    "\n",
    "1. **Loading the Data**  \n",
    "   First, the dataset was loaded into a pandas DataFrame and checked for structure, types, and summary statistics.\n",
    "\n",
    "2. **Handling Missing Values**  \n",
    "   This dataset did not have null values. However, the `\"unknown\"` category was present in some categorical features such as `\"job\"` and `\"education\"`. These values were kept in dataset and were treated as a separate category instead of being removed or imputed.\n",
    "\n",
    "3. **Feature Engineering**  \n",
    "   - The target variable, `\"y\"`, was converted into binary format: 1 for `\"yes\"` and 0 for `\"no\"`.\n",
    "   - The categorical variables were encoded using **one-hot encoding** to convert them into numeric format.\n",
    "   - Features that may cause data leakage like `\"duration\"` were removed, as they are only become known after a call is completed and otherwise would not be available for prediction in real-time.\n",
    "\n",
    "4. **Train/Test Split**  \n",
    "   The dataset was split into into two parts, a **training set comprising 80%** and a **test set comprising 20%**, using stratified sampling method to maintain the same proportion of positive cases in both sets due to the class imbalance.\n",
    "\n",
    "5. **Feature Scaling**  \n",
    "   - The Numerical features such as `\"age\"`, `\"balance\"`, and `\"campaign\"` were standardized using **StandardScaler**.\n",
    "   - Scaling was applied after the train/test split to avoid data leakage."
   ]
  },
  {
   "cell_type": "markdown",
   "id": "ab97f1f1-0f44-49b8-a091-08349b2b69af",
   "metadata": {},
   "source": [
    "## Model Building and Evaluation – Logistic Regression\n",
    "To begin modeling, a Logistic Regression classifier was selected as a baseline model. This is a commonly used model for binary classification problems like this one where we predicting one of two outcomes, whether a customer will subscribe to a term deposit or not.\n",
    "The reason Logistic Regression was chosen is due for its simplicity, interpretability, and ease of implementation. However, since the target variable is imbalanced - with only about 11% positive responses - we expect it may struggle to detect the minority class without further tuning or adjustments.\n",
    "\n",
    "The following steps were performed:\n",
    "\n",
    "- The data was split into two parts, training and test sets using stratified sampling.\n",
    "- Numerical features were standardized using StandardScaler.\n",
    "- This model trained on the training set and evaluated on the test set.\n",
    "- The metrics like accuracy, precision, recall, F1 score, and ROC AUC were used for evaluation.\n",
    "\n",
    "\n",
    "Below is the code used to train and evaluate the Logistic Regression model:"
   ]
  },
  {
   "cell_type": "code",
   "execution_count": null,
   "id": "237e51f1-623b-421b-bd7b-8dca59c78216",
   "metadata": {},
   "outputs": [],
   "source": [
    "# Dropping the 'duration' column if it hasn't already been dropped\n",
    "if 'duration' in df.columns:\n",
    "    df = df.drop(columns='duration')\n",
    "\n",
    "# Converting target to binary\n",
    "df['y'] = df['y'].map({'yes': 1, 'no': 0})\n",
    "\n",
    "# One-hot encode categorical variables\n",
    "df_encoded = pd.get_dummies(df, drop_first=True)\n",
    "\n",
    "# Defining features (X) and target (y)\n",
    "X = df_encoded.drop(columns='y')\n",
    "y = df_encoded['y']"
   ]
  },
  {
   "cell_type": "code",
   "execution_count": null,
   "id": "258d4487-0a74-4ee9-b197-413138de065e",
   "metadata": {},
   "outputs": [],
   "source": [
    "from sklearn.linear_model import LogisticRegression\n",
    "from sklearn.metrics import accuracy_score, precision_score, recall_score, f1_score, roc_auc_score, classification_report, confusion_matrix, roc_curve\n",
    "from sklearn.model_selection import train_test_split\n",
    "from sklearn.preprocessing import StandardScaler\n",
    "import matplotlib.pyplot as plt\n",
    "import seaborn as sns\n",
    "\n",
    "# Train/test split (stratified)\n",
    "X_train, X_test, y_train, y_test = train_test_split(\n",
    "    X, y, test_size=0.2, stratify=y, random_state=42)\n",
    "\n",
    "# Feature scaling for numeric columns\n",
    "scaler = StandardScaler()\n",
    "X_train_scaled = X_train.copy()\n",
    "X_test_scaled = X_test.copy()\n",
    "\n",
    "# List of numeric columns to scale (excluding 'duration')\n",
    "num_cols = ['age', 'balance', 'campaign', 'previous', 'pdays']\n",
    "X_train_scaled[num_cols] = scaler.fit_transform(X_train[num_cols])\n",
    "X_test_scaled[num_cols] = scaler.transform(X_test[num_cols])\n",
    "\n",
    "# Building logistic regression model\n",
    "logreg = LogisticRegression(max_iter=1000, class_weight='balanced', random_state=42)\n",
    "logreg.fit(X_train_scaled, y_train)\n",
    "\n",
    "# Predictions\n",
    "y_pred = logreg.predict(X_test_scaled)\n",
    "y_proba = logreg.predict_proba(X_test_scaled)[:, 1]\n",
    "\n",
    "# Evaluation\n",
    "accuracy = accuracy_score(y_test, y_pred)\n",
    "precision = precision_score(y_test, y_pred)\n",
    "recall = recall_score(y_test, y_pred)\n",
    "f1 = f1_score(y_test, y_pred)\n",
    "roc_auc = roc_auc_score(y_test, y_proba)\n",
    "\n",
    "# Printing metrics\n",
    "print(\"Evaluation Metrics (Logistic Regression):\")\n",
    "print(f\"Accuracy: {accuracy:.4f}\")\n",
    "print(f\"Precision: {precision:.4f}\")\n",
    "print(f\"Recall: {recall:.4f}\")\n",
    "print(f\"F1 Score: {f1:.4f}\")\n",
    "print(f\"ROC AUC: {roc_auc:.4f}\")\n",
    "\n",
    "# Visualizing the confusion matrix\n",
    "cm = confusion_matrix(y_test, y_pred)\n",
    "plt.figure(figsize=(6, 4))\n",
    "sns.heatmap(cm, annot=True, fmt='d', cmap='Blues', xticklabels=['No', 'Yes'], yticklabels=['No', 'Yes'])\n",
    "plt.title('Confusion Matrix')\n",
    "plt.xlabel('Predicted Label')\n",
    "plt.ylabel('True Label')\n",
    "plt.tight_layout()\n",
    "plt.savefig('confusion_matrix_small.png', dpi=150)  # Save smaller image\n",
    "plt.show()\n",
    "\n",
    "# ROC AUC Curve\n",
    "fpr, tpr, thresholds = roc_curve(y_test, y_proba)\n",
    "plt.figure(figsize=(6, 4))\n",
    "plt.plot(fpr, tpr, color='darkorange', lw=2, label=f'ROC curve (AUC = {roc_auc:.2f})')\n",
    "plt.plot([0, 1], [0, 1], color='navy', lw=2, linestyle='--')\n",
    "plt.xlabel('False Positive Rate')\n",
    "plt.ylabel('True Positive Rate')\n",
    "plt.title('ROC Curve - Logistic Regression')\n",
    "plt.legend(loc='lower right')\n",
    "plt.tight_layout()\n",
    "plt.savefig(\"roc_auc_curve_small.png\", dpi=150, bbox_inches='tight')\n",
    "plt.show()"
   ]
  },
  {
   "cell_type": "markdown",
   "id": "087c1625-0c8b-4a6b-abed-58090938953b",
   "metadata": {},
   "source": [
    "## Model Interpretation\n",
    "This Logistic Regression model was trained to predict, if after marketing compain a customer will subscribe to a term deposit based on various demographic and behavioral features. \n",
    "\n",
    "The model achieved the following performance on the test set:\n",
    "\n",
    "- **Accuracy:** 75.53%\n",
    "- **Precision:** 26.70%\n",
    "- **Recall:** 62.57%\n",
    "- **F1 Score:** 37.43%\n",
    "- **ROC AUC:** 77.22%\n",
    "  \n",
    "These results show that while the model is moderately good at distinguishing between customers who are likely to subscribe and those who are not, as shown by the ROC AUC score of 0.77 (or 77.22%), its **precision is relatively low**, meaning a high number of false positives (predicting \"yes\" when the actual answer is \"no\"). However, the **recall** for this model is fairly strong and achived 62.6%, indicating the model is capturing a significant portion of the actual \"yes\" customers.\n",
    "\n",
    "The confusion matrix confirms this trade-off:\n",
    "\n",
    "- The model correctly predicted **662 subscribers**, but also falsely predicted 1,817 non-subscribers as subscribers.\n",
    "\n",
    "- At the same time, it correctly identified **6,168 non-subscribers**.\n",
    "\n",
    "## Recommendations\n",
    "\n",
    "- **Use the model for broad targeting campaigns.** Given its high recall, the model can be useful in campaigns where identifying as many potential customers as possible is more important than minimizing false positives (e.g., sending promotional emails, ads, or trial offers).\n",
    "  \n",
    "- **Pair with cost-benefit analysis.** Since false positives can incur costs (e.g., contacting uninterested users), marketing teams should always look from economical stand point, meaning balance the campaign cost against the expected revenue per converted customer.\n",
    "\n",
    "  \n",
    "- **Explore other classification models.** It is important to note that more complex model like Random Forest or XGBoost might improve the precision-recall balance and reduce false positives.\n",
    "\n",
    "  \n",
    "- **Feature engineering.** Removing features like 'duration' (which isn't available before the campaign call) was the right step. Further tuning or interaction terms may also improve performance.\n",
    "\n",
    "  \n",
    "- **Threshold tuning.** Marketing team should consider adjusting the classification threshold to improve precision, depending on the marketing goal, for example, targeting fewer but more likely customers.\n"
   ]
  }
 ],
 "metadata": {
  "kernelspec": {
   "display_name": "Python 3 (ipykernel)",
   "language": "python",
   "name": "python3"
  },
  "language_info": {
   "codemirror_mode": {
    "name": "ipython",
    "version": 3
   },
   "file_extension": ".py",
   "mimetype": "text/x-python",
   "name": "python",
   "nbconvert_exporter": "python",
   "pygments_lexer": "ipython3",
   "version": "3.12.3"
  }
 },
 "nbformat": 4,
 "nbformat_minor": 5
}
