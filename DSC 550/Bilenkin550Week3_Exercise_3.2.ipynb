{
 "cells": [
  {
   "cell_type": "markdown",
   "id": "2ba9456e-1e87-4f72-9291-4883c307f5af",
   "metadata": {},
   "source": [
    "3.2 Exercise: Sentiment Analysis and Preprocessing Text"
   ]
  },
  {
   "cell_type": "markdown",
   "id": "5e50ea77-c186-4195-beab-265d9e34aff1",
   "metadata": {},
   "source": [
    "Part 1: Using the TextBlob Sentiment Analyzer"
   ]
  },
  {
   "cell_type": "markdown",
   "id": "56c94aeb-c027-4b35-ba90-1bb39e15a7e2",
   "metadata": {},
   "source": [
    "1. Import the movie review data as a data frame and ensure that the data is loaded properly."
   ]
  },
  {
   "cell_type": "code",
   "execution_count": 64,
   "id": "42040de9-a35d-4148-b82f-79242125ef44",
   "metadata": {},
   "outputs": [
    {
     "data": {
      "text/html": [
       "<div>\n",
       "<style scoped>\n",
       "    .dataframe tbody tr th:only-of-type {\n",
       "        vertical-align: middle;\n",
       "    }\n",
       "\n",
       "    .dataframe tbody tr th {\n",
       "        vertical-align: top;\n",
       "    }\n",
       "\n",
       "    .dataframe thead th {\n",
       "        text-align: right;\n",
       "    }\n",
       "</style>\n",
       "<table border=\"1\" class=\"dataframe\">\n",
       "  <thead>\n",
       "    <tr style=\"text-align: right;\">\n",
       "      <th></th>\n",
       "      <th>id</th>\n",
       "      <th>sentiment</th>\n",
       "      <th>review</th>\n",
       "    </tr>\n",
       "  </thead>\n",
       "  <tbody>\n",
       "    <tr>\n",
       "      <th>0</th>\n",
       "      <td>5814_8</td>\n",
       "      <td>1</td>\n",
       "      <td>With all this stuff going down at the moment w...</td>\n",
       "    </tr>\n",
       "    <tr>\n",
       "      <th>1</th>\n",
       "      <td>2381_9</td>\n",
       "      <td>1</td>\n",
       "      <td>\\The Classic War of the Worlds\\\" by Timothy Hi...</td>\n",
       "    </tr>\n",
       "    <tr>\n",
       "      <th>2</th>\n",
       "      <td>7759_3</td>\n",
       "      <td>0</td>\n",
       "      <td>The film starts with a manager (Nicholas Bell)...</td>\n",
       "    </tr>\n",
       "    <tr>\n",
       "      <th>3</th>\n",
       "      <td>3630_4</td>\n",
       "      <td>0</td>\n",
       "      <td>It must be assumed that those who praised this...</td>\n",
       "    </tr>\n",
       "    <tr>\n",
       "      <th>4</th>\n",
       "      <td>9495_8</td>\n",
       "      <td>1</td>\n",
       "      <td>Superbly trashy and wondrously unpretentious 8...</td>\n",
       "    </tr>\n",
       "  </tbody>\n",
       "</table>\n",
       "</div>"
      ],
      "text/plain": [
       "       id  sentiment                                             review\n",
       "0  5814_8          1  With all this stuff going down at the moment w...\n",
       "1  2381_9          1  \\The Classic War of the Worlds\\\" by Timothy Hi...\n",
       "2  7759_3          0  The film starts with a manager (Nicholas Bell)...\n",
       "3  3630_4          0  It must be assumed that those who praised this...\n",
       "4  9495_8          1  Superbly trashy and wondrously unpretentious 8..."
      ]
     },
     "execution_count": 64,
     "metadata": {},
     "output_type": "execute_result"
    }
   ],
   "source": [
    "import pandas as pd\n",
    "\n",
    "# Loading and defining the file path to a variable\n",
    "file_path = r\"C:\\Users\\maxim\\OneDrive\\Desktop\\BU\\DSC 550\\labeledTrainData.tsv\"\n",
    "\n",
    "# Loading the dataset from local folder\n",
    "df = pd.read_csv(file_path, delimiter='\\t')\n",
    "\n",
    "# Displaying the first 5 rows\n",
    "df.head()"
   ]
  },
  {
   "cell_type": "markdown",
   "id": "d6c46dad-4c3c-4c90-a0d5-dcced202d7d0",
   "metadata": {},
   "source": [
    "2. How many of each positive and negative reviews are there?"
   ]
  },
  {
   "cell_type": "code",
   "execution_count": 65,
   "id": "2a2cce75-2659-4512-bd3c-3766ea0352fb",
   "metadata": {},
   "outputs": [
    {
     "name": "stdout",
     "output_type": "stream",
     "text": [
      "sentiment\n",
      "Positive    12,500\n",
      "Negative    12,500\n",
      "Name: count, dtype: object\n"
     ]
    }
   ],
   "source": [
    "# Counting the number of positive and negative reviews\n",
    "review_counts = df['sentiment'].value_counts()\n",
    "\n",
    "# Mapping sentiment values to labels and formatting counts with commas\n",
    "review_counts_with_labels = review_counts.rename({1: 'Positive', 0: 'Negative'})\n",
    "\n",
    "# Formatting the counts with commas\n",
    "formatted_counts = review_counts_with_labels.apply(lambda x: f'{x:,}')\n",
    "\n",
    "# Displaying the counts with labels and formatted numbers\n",
    "print(formatted_counts)"
   ]
  },
  {
   "cell_type": "markdown",
   "id": "dae0b3fd-d303-4a91-a568-766482492d03",
   "metadata": {},
   "source": [
    "3. Use TextBlob to classify each movie review as positive or negative. Assume that a polarity score greater than or equal to zero is a positive sentiment and less than 0 is a negative sentiment."
   ]
  },
  {
   "cell_type": "code",
   "execution_count": 66,
   "id": "be514191-cd67-4996-b5c9-d91627be3cce",
   "metadata": {},
   "outputs": [
    {
     "data": {
      "text/html": [
       "<div>\n",
       "<style scoped>\n",
       "    .dataframe tbody tr th:only-of-type {\n",
       "        vertical-align: middle;\n",
       "    }\n",
       "\n",
       "    .dataframe tbody tr th {\n",
       "        vertical-align: top;\n",
       "    }\n",
       "\n",
       "    .dataframe thead th {\n",
       "        text-align: right;\n",
       "    }\n",
       "</style>\n",
       "<table border=\"1\" class=\"dataframe\">\n",
       "  <thead>\n",
       "    <tr style=\"text-align: right;\">\n",
       "      <th></th>\n",
       "      <th>review</th>\n",
       "      <th>sentiment</th>\n",
       "      <th>predicted_sentiment</th>\n",
       "    </tr>\n",
       "  </thead>\n",
       "  <tbody>\n",
       "    <tr>\n",
       "      <th>0</th>\n",
       "      <td>With all this stuff going down at the moment w...</td>\n",
       "      <td>1</td>\n",
       "      <td>Positive</td>\n",
       "    </tr>\n",
       "    <tr>\n",
       "      <th>1</th>\n",
       "      <td>\\The Classic War of the Worlds\\\" by Timothy Hi...</td>\n",
       "      <td>1</td>\n",
       "      <td>Positive</td>\n",
       "    </tr>\n",
       "    <tr>\n",
       "      <th>2</th>\n",
       "      <td>The film starts with a manager (Nicholas Bell)...</td>\n",
       "      <td>0</td>\n",
       "      <td>Negative</td>\n",
       "    </tr>\n",
       "    <tr>\n",
       "      <th>3</th>\n",
       "      <td>It must be assumed that those who praised this...</td>\n",
       "      <td>0</td>\n",
       "      <td>Positive</td>\n",
       "    </tr>\n",
       "    <tr>\n",
       "      <th>4</th>\n",
       "      <td>Superbly trashy and wondrously unpretentious 8...</td>\n",
       "      <td>1</td>\n",
       "      <td>Negative</td>\n",
       "    </tr>\n",
       "  </tbody>\n",
       "</table>\n",
       "</div>"
      ],
      "text/plain": [
       "                                              review  sentiment  \\\n",
       "0  With all this stuff going down at the moment w...          1   \n",
       "1  \\The Classic War of the Worlds\\\" by Timothy Hi...          1   \n",
       "2  The film starts with a manager (Nicholas Bell)...          0   \n",
       "3  It must be assumed that those who praised this...          0   \n",
       "4  Superbly trashy and wondrously unpretentious 8...          1   \n",
       "\n",
       "  predicted_sentiment  \n",
       "0            Positive  \n",
       "1            Positive  \n",
       "2            Negative  \n",
       "3            Positive  \n",
       "4            Negative  "
      ]
     },
     "execution_count": 66,
     "metadata": {},
     "output_type": "execute_result"
    }
   ],
   "source": [
    "# Importing necessary package\n",
    "from textblob import TextBlob\n",
    "\n",
    "# Function to classify sentiment based on polarity\n",
    "def classify_sentiment(review):\n",
    "    # Creating a TextBlob object\n",
    "    blob = TextBlob(review)\n",
    "    \n",
    "    # Getting the polarity score and classify positive or negative\n",
    "    polarity = blob.sentiment.polarity\n",
    "    if polarity >= 0:\n",
    "        return 'Positive'\n",
    "    else:\n",
    "        return 'Negative'\n",
    "\n",
    "# Applying the classify_sentiment function to each review\n",
    "df['predicted_sentiment'] = df['review'].apply(classify_sentiment)\n",
    "\n",
    "# Displaying the first 5 rows with the predicted sentiment\n",
    "df[['review', 'sentiment', 'predicted_sentiment']].head()"
   ]
  },
  {
   "cell_type": "markdown",
   "id": "c167b67f-a0dd-4b53-a279-941736f6595e",
   "metadata": {},
   "source": [
    "4. Check the accuracy of this model. Is this model better than random guessing?"
   ]
  },
  {
   "cell_type": "code",
   "execution_count": 67,
   "id": "4aecbaee-da9b-4451-9eac-cceecb217276",
   "metadata": {},
   "outputs": [
    {
     "name": "stdout",
     "output_type": "stream",
     "text": [
      "Accuracy of the model: 68.52%\n"
     ]
    }
   ],
   "source": [
    "# Importing necessary package for evaluation\n",
    "from sklearn.metrics import accuracy_score\n",
    "\n",
    "# Mapping 'Positive' and 'Negative' to 1 and 0 for comparison\n",
    "df['predicted_sentiment_numeric'] = df['predicted_sentiment'].map({'Positive': 1, 'Negative': 0})\n",
    "\n",
    "# Calculating the accuracy\n",
    "accuracy = accuracy_score(df['sentiment'], df['predicted_sentiment_numeric'])\n",
    "\n",
    "# Printing the accuracy\n",
    "print(f\"Accuracy of the model: {accuracy * 100:.2f}%\")\n"
   ]
  },
  {
   "cell_type": "markdown",
   "id": "ac166bc7-97da-415f-9da1-8645a402f2d7",
   "metadata": {},
   "source": [
    "Based on the above result, the model achieves an accuracy rate of 68%, which is better than random guessing (50/50) in a binary classification task. However, although the model's accuracy exceeds random guessing, its predictive power is not particularly impressive. The model may benefit from exploring other libraries and packages with higher predictive capabilities."
   ]
  },
  {
   "cell_type": "markdown",
   "id": "0784c6ef-eb76-46a8-9be2-21f46e28baef",
   "metadata": {},
   "source": [
    "5. For up to five points extra credit, use another prebuilt text sentiment analyzer, e.g., VADER, and repeat steps (3) and (4)."
   ]
  },
  {
   "cell_type": "markdown",
   "id": "5900c43e-2947-40fa-9c3d-5a3b2fe00f67",
   "metadata": {},
   "source": [
    "Importing VADER and classifying sentiments"
   ]
  },
  {
   "cell_type": "code",
   "execution_count": 68,
   "id": "50488470-42de-40e6-9ab9-c200ad7d99cb",
   "metadata": {},
   "outputs": [
    {
     "data": {
      "text/html": [
       "<div>\n",
       "<style scoped>\n",
       "    .dataframe tbody tr th:only-of-type {\n",
       "        vertical-align: middle;\n",
       "    }\n",
       "\n",
       "    .dataframe tbody tr th {\n",
       "        vertical-align: top;\n",
       "    }\n",
       "\n",
       "    .dataframe thead th {\n",
       "        text-align: right;\n",
       "    }\n",
       "</style>\n",
       "<table border=\"1\" class=\"dataframe\">\n",
       "  <thead>\n",
       "    <tr style=\"text-align: right;\">\n",
       "      <th></th>\n",
       "      <th>review</th>\n",
       "      <th>sentiment</th>\n",
       "      <th>predicted_sentiment_vader</th>\n",
       "    </tr>\n",
       "  </thead>\n",
       "  <tbody>\n",
       "    <tr>\n",
       "      <th>0</th>\n",
       "      <td>With all this stuff going down at the moment w...</td>\n",
       "      <td>1</td>\n",
       "      <td>Negative</td>\n",
       "    </tr>\n",
       "    <tr>\n",
       "      <th>1</th>\n",
       "      <td>\\The Classic War of the Worlds\\\" by Timothy Hi...</td>\n",
       "      <td>1</td>\n",
       "      <td>Positive</td>\n",
       "    </tr>\n",
       "    <tr>\n",
       "      <th>2</th>\n",
       "      <td>The film starts with a manager (Nicholas Bell)...</td>\n",
       "      <td>0</td>\n",
       "      <td>Negative</td>\n",
       "    </tr>\n",
       "    <tr>\n",
       "      <th>3</th>\n",
       "      <td>It must be assumed that those who praised this...</td>\n",
       "      <td>0</td>\n",
       "      <td>Negative</td>\n",
       "    </tr>\n",
       "    <tr>\n",
       "      <th>4</th>\n",
       "      <td>Superbly trashy and wondrously unpretentious 8...</td>\n",
       "      <td>1</td>\n",
       "      <td>Positive</td>\n",
       "    </tr>\n",
       "  </tbody>\n",
       "</table>\n",
       "</div>"
      ],
      "text/plain": [
       "                                              review  sentiment  \\\n",
       "0  With all this stuff going down at the moment w...          1   \n",
       "1  \\The Classic War of the Worlds\\\" by Timothy Hi...          1   \n",
       "2  The film starts with a manager (Nicholas Bell)...          0   \n",
       "3  It must be assumed that those who praised this...          0   \n",
       "4  Superbly trashy and wondrously unpretentious 8...          1   \n",
       "\n",
       "  predicted_sentiment_vader  \n",
       "0                  Negative  \n",
       "1                  Positive  \n",
       "2                  Negative  \n",
       "3                  Negative  \n",
       "4                  Positive  "
      ]
     },
     "execution_count": 68,
     "metadata": {},
     "output_type": "execute_result"
    }
   ],
   "source": [
    "# Importing necessary package for VADER\n",
    "from vaderSentiment.vaderSentiment import SentimentIntensityAnalyzer\n",
    "\n",
    "# Initializing the SentimentIntensityAnalyzer\n",
    "analyzer = SentimentIntensityAnalyzer()\n",
    "\n",
    "# Function to classify sentiment using VADER\n",
    "def classify_sentiment_vader(review):\n",
    "    # Getting the sentiment score using VADER\n",
    "    sentiment_score = analyzer.polarity_scores(review)\n",
    "    \n",
    "    # Classifying sentiment as Positive or Negative based on the compound score\n",
    "    if sentiment_score['compound'] >= 0:\n",
    "        return 'Positive'\n",
    "    else:\n",
    "        return 'Negative'\n",
    "\n",
    "# Applying the classify_sentiment_vader function to each review\n",
    "df['predicted_sentiment_vader'] = df['review'].apply(classify_sentiment_vader)\n",
    "\n",
    "# Displaying the first 5 rows with the predicted sentiment using VADER\n",
    "df[['review', 'sentiment', 'predicted_sentiment_vader']].head()"
   ]
  },
  {
   "cell_type": "markdown",
   "id": "f61e6ae4-396c-4b54-beec-a95ca70ff0ef",
   "metadata": {},
   "source": [
    "Checking the accuracy of the VADER model"
   ]
  },
  {
   "cell_type": "code",
   "execution_count": 69,
   "id": "4fb82cbe-6a06-4229-a1a3-df7c410d15fd",
   "metadata": {},
   "outputs": [
    {
     "name": "stdout",
     "output_type": "stream",
     "text": [
      "Accuracy of VADER model: 69.40%\n"
     ]
    }
   ],
   "source": [
    "from sklearn.metrics import accuracy_score\n",
    "\n",
    "# Mapping the predicted sentiment values (VADER)\n",
    "df['predicted_sentiment_vader'] = df['predicted_sentiment_vader'].map({'Positive': 1, 'Negative': 0})\n",
    "\n",
    "# Comparing the predicted sentiment from VADER with the actual sentiment\n",
    "accuracy_vader = accuracy_score(df['sentiment'], df['predicted_sentiment_vader'])\n",
    "\n",
    "print(f'Accuracy of VADER model: {accuracy_vader * 100:.2f}%')\n"
   ]
  },
  {
   "cell_type": "markdown",
   "id": "653e5277-8629-4535-8239-1123df76e328",
   "metadata": {},
   "source": [
    "Accuracy of VADER Model:\n",
    "\n",
    "The VADER model achieved an accuracy of 69.40%, which is slightly higher than the TextBlob model's accuracy of 68%. Although both models outperform random guessing (50%) in a binary classification task, the VADER model shows a marginal improvement. However, the predictive power of both models still leaves room for improvement. Further exploration of more advanced models or techniques might yield better results for sentiment classification."
   ]
  },
  {
   "cell_type": "markdown",
   "id": "6b667835-a360-4b30-be50-47d124b9a6ed",
   "metadata": {},
   "source": [
    "Part 2: Prepping Text for a Custom Model"
   ]
  },
  {
   "cell_type": "markdown",
   "id": "4d587f21-df96-45e7-937c-6be4a3c2c91d",
   "metadata": {},
   "source": [
    "1. Convert all text to lowercase letters."
   ]
  },
  {
   "cell_type": "code",
   "execution_count": 70,
   "id": "df1d838f-1ddb-4c8d-a2c6-1e9dfda00475",
   "metadata": {},
   "outputs": [
    {
     "data": {
      "text/html": [
       "<div>\n",
       "<style scoped>\n",
       "    .dataframe tbody tr th:only-of-type {\n",
       "        vertical-align: middle;\n",
       "    }\n",
       "\n",
       "    .dataframe tbody tr th {\n",
       "        vertical-align: top;\n",
       "    }\n",
       "\n",
       "    .dataframe thead th {\n",
       "        text-align: right;\n",
       "    }\n",
       "</style>\n",
       "<table border=\"1\" class=\"dataframe\">\n",
       "  <thead>\n",
       "    <tr style=\"text-align: right;\">\n",
       "      <th></th>\n",
       "      <th>id</th>\n",
       "      <th>sentiment</th>\n",
       "      <th>review</th>\n",
       "      <th>predicted_sentiment</th>\n",
       "      <th>predicted_sentiment_numeric</th>\n",
       "      <th>predicted_sentiment_vader</th>\n",
       "    </tr>\n",
       "  </thead>\n",
       "  <tbody>\n",
       "    <tr>\n",
       "      <th>0</th>\n",
       "      <td>5814_8</td>\n",
       "      <td>1</td>\n",
       "      <td>with all this stuff going down at the moment w...</td>\n",
       "      <td>Positive</td>\n",
       "      <td>1</td>\n",
       "      <td>0</td>\n",
       "    </tr>\n",
       "    <tr>\n",
       "      <th>1</th>\n",
       "      <td>2381_9</td>\n",
       "      <td>1</td>\n",
       "      <td>\\the classic war of the worlds\\\" by timothy hi...</td>\n",
       "      <td>Positive</td>\n",
       "      <td>1</td>\n",
       "      <td>1</td>\n",
       "    </tr>\n",
       "  </tbody>\n",
       "</table>\n",
       "</div>"
      ],
      "text/plain": [
       "       id  sentiment                                             review  \\\n",
       "0  5814_8          1  with all this stuff going down at the moment w...   \n",
       "1  2381_9          1  \\the classic war of the worlds\\\" by timothy hi...   \n",
       "\n",
       "  predicted_sentiment  predicted_sentiment_numeric  predicted_sentiment_vader  \n",
       "0            Positive                            1                          0  \n",
       "1            Positive                            1                          1  "
      ]
     },
     "execution_count": 70,
     "metadata": {},
     "output_type": "execute_result"
    }
   ],
   "source": [
    "df['review'] = df['review'].str.lower()\n",
    "\n",
    "\n",
    "# Checking the first 2 rows\n",
    "df.head(2)"
   ]
  },
  {
   "cell_type": "markdown",
   "id": "1eeb736a-e5b2-4e14-86a0-3fb1a717150c",
   "metadata": {},
   "source": [
    "2. Remove punctuation and special characters from the text."
   ]
  },
  {
   "cell_type": "code",
   "execution_count": 71,
   "id": "2a338ecc-4267-423c-ad7b-76f6d031d102",
   "metadata": {},
   "outputs": [
    {
     "data": {
      "text/html": [
       "<div>\n",
       "<style scoped>\n",
       "    .dataframe tbody tr th:only-of-type {\n",
       "        vertical-align: middle;\n",
       "    }\n",
       "\n",
       "    .dataframe tbody tr th {\n",
       "        vertical-align: top;\n",
       "    }\n",
       "\n",
       "    .dataframe thead th {\n",
       "        text-align: right;\n",
       "    }\n",
       "</style>\n",
       "<table border=\"1\" class=\"dataframe\">\n",
       "  <thead>\n",
       "    <tr style=\"text-align: right;\">\n",
       "      <th></th>\n",
       "      <th>id</th>\n",
       "      <th>sentiment</th>\n",
       "      <th>review</th>\n",
       "      <th>predicted_sentiment</th>\n",
       "      <th>predicted_sentiment_numeric</th>\n",
       "      <th>predicted_sentiment_vader</th>\n",
       "    </tr>\n",
       "  </thead>\n",
       "  <tbody>\n",
       "    <tr>\n",
       "      <th>0</th>\n",
       "      <td>5814_8</td>\n",
       "      <td>1</td>\n",
       "      <td>with all this stuff going down at the moment w...</td>\n",
       "      <td>Positive</td>\n",
       "      <td>1</td>\n",
       "      <td>0</td>\n",
       "    </tr>\n",
       "    <tr>\n",
       "      <th>1</th>\n",
       "      <td>2381_9</td>\n",
       "      <td>1</td>\n",
       "      <td>the classic war of the worlds by timothy hines...</td>\n",
       "      <td>Positive</td>\n",
       "      <td>1</td>\n",
       "      <td>1</td>\n",
       "    </tr>\n",
       "  </tbody>\n",
       "</table>\n",
       "</div>"
      ],
      "text/plain": [
       "       id  sentiment                                             review  \\\n",
       "0  5814_8          1  with all this stuff going down at the moment w...   \n",
       "1  2381_9          1  the classic war of the worlds by timothy hines...   \n",
       "\n",
       "  predicted_sentiment  predicted_sentiment_numeric  predicted_sentiment_vader  \n",
       "0            Positive                            1                          0  \n",
       "1            Positive                            1                          1  "
      ]
     },
     "execution_count": 71,
     "metadata": {},
     "output_type": "execute_result"
    }
   ],
   "source": [
    "df['review'] = df['review'].apply(lambda x: ''.join([char for char in x if char not in string.punctuation]))\n",
    "\n",
    "# Checking the first 2 rows\n",
    "df.head(2)"
   ]
  },
  {
   "cell_type": "markdown",
   "id": "839915af-0b4d-44ca-b55d-e4242c2238d2",
   "metadata": {},
   "source": [
    "3. Remove stop words."
   ]
  },
  {
   "cell_type": "code",
   "execution_count": 72,
   "id": "f60e0379-3e5b-47bb-b361-cbe508097b10",
   "metadata": {},
   "outputs": [
    {
     "data": {
      "text/html": [
       "<div>\n",
       "<style scoped>\n",
       "    .dataframe tbody tr th:only-of-type {\n",
       "        vertical-align: middle;\n",
       "    }\n",
       "\n",
       "    .dataframe tbody tr th {\n",
       "        vertical-align: top;\n",
       "    }\n",
       "\n",
       "    .dataframe thead th {\n",
       "        text-align: right;\n",
       "    }\n",
       "</style>\n",
       "<table border=\"1\" class=\"dataframe\">\n",
       "  <thead>\n",
       "    <tr style=\"text-align: right;\">\n",
       "      <th></th>\n",
       "      <th>id</th>\n",
       "      <th>sentiment</th>\n",
       "      <th>review</th>\n",
       "      <th>predicted_sentiment</th>\n",
       "      <th>predicted_sentiment_numeric</th>\n",
       "      <th>predicted_sentiment_vader</th>\n",
       "    </tr>\n",
       "  </thead>\n",
       "  <tbody>\n",
       "    <tr>\n",
       "      <th>0</th>\n",
       "      <td>5814_8</td>\n",
       "      <td>1</td>\n",
       "      <td>stuff going moment mj ive started listening mu...</td>\n",
       "      <td>Positive</td>\n",
       "      <td>1</td>\n",
       "      <td>0</td>\n",
       "    </tr>\n",
       "    <tr>\n",
       "      <th>1</th>\n",
       "      <td>2381_9</td>\n",
       "      <td>1</td>\n",
       "      <td>classic war worlds timothy hines entertaining ...</td>\n",
       "      <td>Positive</td>\n",
       "      <td>1</td>\n",
       "      <td>1</td>\n",
       "    </tr>\n",
       "  </tbody>\n",
       "</table>\n",
       "</div>"
      ],
      "text/plain": [
       "       id  sentiment                                             review  \\\n",
       "0  5814_8          1  stuff going moment mj ive started listening mu...   \n",
       "1  2381_9          1  classic war worlds timothy hines entertaining ...   \n",
       "\n",
       "  predicted_sentiment  predicted_sentiment_numeric  predicted_sentiment_vader  \n",
       "0            Positive                            1                          0  \n",
       "1            Positive                            1                          1  "
      ]
     },
     "execution_count": 72,
     "metadata": {},
     "output_type": "execute_result"
    }
   ],
   "source": [
    "# Ensuring stopwords dataset is loaded\n",
    "from nltk.corpus import stopwords\n",
    "\n",
    "# Loading the stopwords\n",
    "stop_words = stopwords.words('english')\n",
    "\n",
    "# Removing stopwords from the review text\n",
    "df['review'] = df['review'].apply(lambda x: ' '.join([word for word in x.split() if word not in stop_words]))\n",
    "\n",
    "# Checking the first 2 rows\n",
    "df.head(2)"
   ]
  },
  {
   "cell_type": "markdown",
   "id": "38b23e9a-6681-4067-bfa6-1952b448a259",
   "metadata": {},
   "source": [
    "4. Apply NLTK’s PorterStemmer."
   ]
  },
  {
   "cell_type": "code",
   "execution_count": 73,
   "id": "fc770057-946d-4bc9-be79-45d037944590",
   "metadata": {},
   "outputs": [
    {
     "data": {
      "text/html": [
       "<div>\n",
       "<style scoped>\n",
       "    .dataframe tbody tr th:only-of-type {\n",
       "        vertical-align: middle;\n",
       "    }\n",
       "\n",
       "    .dataframe tbody tr th {\n",
       "        vertical-align: top;\n",
       "    }\n",
       "\n",
       "    .dataframe thead th {\n",
       "        text-align: right;\n",
       "    }\n",
       "</style>\n",
       "<table border=\"1\" class=\"dataframe\">\n",
       "  <thead>\n",
       "    <tr style=\"text-align: right;\">\n",
       "      <th></th>\n",
       "      <th>id</th>\n",
       "      <th>sentiment</th>\n",
       "      <th>review</th>\n",
       "      <th>predicted_sentiment</th>\n",
       "      <th>predicted_sentiment_numeric</th>\n",
       "      <th>predicted_sentiment_vader</th>\n",
       "    </tr>\n",
       "  </thead>\n",
       "  <tbody>\n",
       "    <tr>\n",
       "      <th>0</th>\n",
       "      <td>5814_8</td>\n",
       "      <td>1</td>\n",
       "      <td>stuff go moment mj ive start listen music watc...</td>\n",
       "      <td>Positive</td>\n",
       "      <td>1</td>\n",
       "      <td>0</td>\n",
       "    </tr>\n",
       "    <tr>\n",
       "      <th>1</th>\n",
       "      <td>2381_9</td>\n",
       "      <td>1</td>\n",
       "      <td>classic war world timothi hine entertain film ...</td>\n",
       "      <td>Positive</td>\n",
       "      <td>1</td>\n",
       "      <td>1</td>\n",
       "    </tr>\n",
       "  </tbody>\n",
       "</table>\n",
       "</div>"
      ],
      "text/plain": [
       "       id  sentiment                                             review  \\\n",
       "0  5814_8          1  stuff go moment mj ive start listen music watc...   \n",
       "1  2381_9          1  classic war world timothi hine entertain film ...   \n",
       "\n",
       "  predicted_sentiment  predicted_sentiment_numeric  predicted_sentiment_vader  \n",
       "0            Positive                            1                          0  \n",
       "1            Positive                            1                          1  "
      ]
     },
     "execution_count": 73,
     "metadata": {},
     "output_type": "execute_result"
    }
   ],
   "source": [
    "# Importing PorterStemmer from nltk\n",
    "from nltk.stem import PorterStemmer\n",
    "\n",
    "# Creating a PorterStemmer object\n",
    "stemmer = PorterStemmer()\n",
    "\n",
    "# Applying the stemmer to each word in the review\n",
    "df['review'] = df['review'].apply(lambda x: ' '.join([stemmer.stem(word) for word in x.split()]))\n",
    "\n",
    "# Checking the first 2 rows after stemming\n",
    "df.head(2)"
   ]
  },
  {
   "cell_type": "markdown",
   "id": "62dc8aff-1606-4746-98e2-6236cab4ee07",
   "metadata": {},
   "source": [
    "5. Create a bag-of-words matrix from your stemmed text (output from (4)), where each row is a word-count vector for a single movie review (see sections 5.3 & 6.8 in the Machine Learning with Python Cookbook). Display the dimensions of your bag-of-words matrix. The number of rows in this matrix should be the same as the number of rows in your original data frame."
   ]
  },
  {
   "cell_type": "code",
   "execution_count": 74,
   "id": "89811971-4d55-4919-b388-3a76d8d17b40",
   "metadata": {},
   "outputs": [
    {
     "name": "stdout",
     "output_type": "stream",
     "text": [
      "Number of reviews in the dataset: 25,000\n",
      "Number of unique words in the Bag-of-Words matrix: 92,379\n"
     ]
    }
   ],
   "source": [
    "# Importing CountVectorizer from sklearn\n",
    "from sklearn.feature_extraction.text import CountVectorizer\n",
    "\n",
    "# Initializing the CountVectorizer\n",
    "vectorizer = CountVectorizer()\n",
    "\n",
    "# Creating the Bag-of-Words (BoW) matrix\n",
    "X_bow = vectorizer.fit_transform(df['review'])\n",
    "\n",
    "# Getting the dimensions of the BoW matrix\n",
    "num_reviews, num_unique_words = X_bow.shape\n",
    "\n",
    "# Displaying the dimensions with explanations and formatted numbers\n",
    "print(f\"Number of reviews in the dataset: {num_reviews:,}\")\n",
    "print(f\"Number of unique words in the Bag-of-Words matrix: {num_unique_words:,}\")"
   ]
  },
  {
   "cell_type": "markdown",
   "id": "87dfc240-2843-4442-9d54-416b95ab82b0",
   "metadata": {},
   "source": [
    "6. Create a term frequency-inverse document frequency (tf-idf) matrix from your stemmed text, for your movie reviews (see section 6.9 in the Machine Learning with Python Cookbook). Display the dimensions of your tf-idf matrix. These dimensions should be the same as your bag-of-words matrix."
   ]
  },
  {
   "cell_type": "code",
   "execution_count": 75,
   "id": "37e4a64f-f6cb-4654-94ae-f98773a8865d",
   "metadata": {},
   "outputs": [
    {
     "name": "stdout",
     "output_type": "stream",
     "text": [
      "Number of reviews in the dataset: 25,000\n",
      "Number of unique words in the TF-IDF matrix: 92,379\n"
     ]
    }
   ],
   "source": [
    "# Importing TfidfVectorizer from sklearn\n",
    "from sklearn.feature_extraction.text import TfidfVectorizer\n",
    "\n",
    "# Initializing the TfidfVectorizer\n",
    "tfidf_vectorizer = TfidfVectorizer()\n",
    "\n",
    "# Creating the TF-IDF matrix\n",
    "X_tfidf = tfidf_vectorizer.fit_transform(df['review'])\n",
    "\n",
    "# Getting the dimensions of the TF-IDF matrix\n",
    "num_reviews_tfidf, num_unique_words_tfidf = X_tfidf.shape\n",
    "\n",
    "# Displaying the dimensions with explanations and formatted numbers\n",
    "print(f\"Number of reviews in the dataset: {num_reviews_tfidf:,}\")\n",
    "print(f\"Number of unique words in the TF-IDF matrix: {num_unique_words_tfidf:,}\")"
   ]
  }
 ],
 "metadata": {
  "kernelspec": {
   "display_name": "Python 3 (ipykernel)",
   "language": "python",
   "name": "python3"
  },
  "language_info": {
   "codemirror_mode": {
    "name": "ipython",
    "version": 3
   },
   "file_extension": ".py",
   "mimetype": "text/x-python",
   "name": "python",
   "nbconvert_exporter": "python",
   "pygments_lexer": "ipython3",
   "version": "3.12.7"
  }
 },
 "nbformat": 4,
 "nbformat_minor": 5
}
